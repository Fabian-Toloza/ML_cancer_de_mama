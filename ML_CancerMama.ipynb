{
 "cells": [
  {
   "cell_type": "markdown",
   "metadata": {
    "id": "GyDm36sgMEIc"
   },
   "source": [
    "# Tarea 3: Análisis de Componentes Principales y Reducción de la dimensionalidad\n",
    "\n",
    "- Nombre: Camila Alvial\n",
    "- e-mail: camila.alvial@alumnos.uv.cl\n",
    "\n",
    "- Nombre: Yaneet Reyes\n",
    "- e-mail: yaneet.reyes@alumnos.uv.cl\n",
    "\n",
    "- Nombre: Fabian Toloza\n",
    "- e-mail: fabian.toloza@alumnos.uv.cl\n",
    " "
   ]
  },
  {
   "cell_type": "markdown",
   "metadata": {
    "id": "1c87mgHGMEIe"
   },
   "source": [
    "La técnica de PCA es muy util para realizar reducción de dimensionalidad de conjuntos de datos altamente dimensionales. Además puede mejorar el desempeño de los clasificadores.\n",
    "\n",
    "Para el presente estudio deberá utilizar los datos seleccionados en la **Tarea 2**"
   ]
  },
  {
   "cell_type": "markdown",
   "metadata": {
    "id": "svl4pv2dMEIe"
   },
   "source": [
    "**Incluir los toolbox que se utilizarán a continuación**\n",
    "\n"
   ]
  },
  {
   "cell_type": "code",
   "execution_count": null,
   "metadata": {
    "id": "VEK_erZCMEIe"
   },
   "outputs": [],
   "source": [
    "import pandas as pd\n",
    "import matplotlib.pyplot as plt\n",
    "import numpy as np\n",
    "import seaborn as sns\n",
    "import time\n",
    "from seaborn import lmplot\n",
    "from sklearn.decomposition import PCA\n",
    "from sklearn import datasets\n",
    "from scipy import stats\n",
    "from sklearn.model_selection import train_test_split\n",
    "from sklearn import cluster\n",
    "from sklearn.neighbors import kneighbors_graph \n",
    "from sklearn.preprocessing import StandardScaler\n",
    "from sklearn import metrics\n",
    "plt.rcParams['figure.figsize'] = (16, 9)\n",
    "plt.style.use('ggplot')\n",
    "sns.set()\n",
    "%matplotlib inline"
   ]
  },
  {
   "cell_type": "code",
   "execution_count": null,
   "metadata": {
    "colab": {
     "base_uri": "https://localhost:8080/",
     "height": 475,
     "resources": {
      "http://localhost:8080/nbextensions/google.colab/files.js": {
       "data": "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",
       "headers": [
        [
         "content-type",
         "application/javascript"
        ]
       ],
       "ok": true,
       "status": 200,
       "status_text": ""
      }
     }
    },
    "id": "wuyKNDiEMs8w",
    "outputId": "f2e8d208-d3ac-41fd-99ff-1563bbeef062"
   },
   "outputs": [
    {
     "data": {
      "text/html": [
       "\n",
       "     <input type=\"file\" id=\"files-660c65b8-dec7-4644-899c-4dc726c87d41\" name=\"files[]\" multiple disabled\n",
       "        style=\"border:none\" />\n",
       "     <output id=\"result-660c65b8-dec7-4644-899c-4dc726c87d41\">\n",
       "      Upload widget is only available when the cell has been executed in the\n",
       "      current browser session. Please rerun this cell to enable.\n",
       "      </output>\n",
       "      <script src=\"/nbextensions/google.colab/files.js\"></script> "
      ],
      "text/plain": [
       "<IPython.core.display.HTML object>"
      ]
     },
     "metadata": {},
     "output_type": "display_data"
    },
    {
     "name": "stdout",
     "output_type": "stream",
     "text": [
      "Saving dataR2.csv to dataR2.csv\n"
     ]
    },
    {
     "data": {
      "text/html": [
       "<div>\n",
       "<style scoped>\n",
       "    .dataframe tbody tr th:only-of-type {\n",
       "        vertical-align: middle;\n",
       "    }\n",
       "\n",
       "    .dataframe tbody tr th {\n",
       "        vertical-align: top;\n",
       "    }\n",
       "\n",
       "    .dataframe thead th {\n",
       "        text-align: right;\n",
       "    }\n",
       "</style>\n",
       "<table border=\"1\" class=\"dataframe\">\n",
       "  <thead>\n",
       "    <tr style=\"text-align: right;\">\n",
       "      <th></th>\n",
       "      <th>Age</th>\n",
       "      <th>BMI</th>\n",
       "      <th>Glucose</th>\n",
       "      <th>Insulin</th>\n",
       "      <th>HOMA</th>\n",
       "      <th>Leptin</th>\n",
       "      <th>Adiponectin</th>\n",
       "      <th>Resistin</th>\n",
       "      <th>MCP.1</th>\n",
       "      <th>Classification</th>\n",
       "    </tr>\n",
       "  </thead>\n",
       "  <tbody>\n",
       "    <tr>\n",
       "      <th>0</th>\n",
       "      <td>48</td>\n",
       "      <td>23.500000</td>\n",
       "      <td>70</td>\n",
       "      <td>2.707</td>\n",
       "      <td>0.467409</td>\n",
       "      <td>8.8071</td>\n",
       "      <td>9.702400</td>\n",
       "      <td>7.99585</td>\n",
       "      <td>417.114</td>\n",
       "      <td>1</td>\n",
       "    </tr>\n",
       "    <tr>\n",
       "      <th>1</th>\n",
       "      <td>83</td>\n",
       "      <td>20.690495</td>\n",
       "      <td>92</td>\n",
       "      <td>3.115</td>\n",
       "      <td>0.706897</td>\n",
       "      <td>8.8438</td>\n",
       "      <td>5.429285</td>\n",
       "      <td>4.06405</td>\n",
       "      <td>468.786</td>\n",
       "      <td>1</td>\n",
       "    </tr>\n",
       "    <tr>\n",
       "      <th>2</th>\n",
       "      <td>82</td>\n",
       "      <td>23.124670</td>\n",
       "      <td>91</td>\n",
       "      <td>4.498</td>\n",
       "      <td>1.009651</td>\n",
       "      <td>17.9393</td>\n",
       "      <td>22.432040</td>\n",
       "      <td>9.27715</td>\n",
       "      <td>554.697</td>\n",
       "      <td>1</td>\n",
       "    </tr>\n",
       "    <tr>\n",
       "      <th>3</th>\n",
       "      <td>68</td>\n",
       "      <td>21.367521</td>\n",
       "      <td>77</td>\n",
       "      <td>3.226</td>\n",
       "      <td>0.612725</td>\n",
       "      <td>9.8827</td>\n",
       "      <td>7.169560</td>\n",
       "      <td>12.76600</td>\n",
       "      <td>928.220</td>\n",
       "      <td>1</td>\n",
       "    </tr>\n",
       "    <tr>\n",
       "      <th>4</th>\n",
       "      <td>86</td>\n",
       "      <td>21.111111</td>\n",
       "      <td>92</td>\n",
       "      <td>3.549</td>\n",
       "      <td>0.805386</td>\n",
       "      <td>6.6994</td>\n",
       "      <td>4.819240</td>\n",
       "      <td>10.57635</td>\n",
       "      <td>773.920</td>\n",
       "      <td>1</td>\n",
       "    </tr>\n",
       "    <tr>\n",
       "      <th>...</th>\n",
       "      <td>...</td>\n",
       "      <td>...</td>\n",
       "      <td>...</td>\n",
       "      <td>...</td>\n",
       "      <td>...</td>\n",
       "      <td>...</td>\n",
       "      <td>...</td>\n",
       "      <td>...</td>\n",
       "      <td>...</td>\n",
       "      <td>...</td>\n",
       "    </tr>\n",
       "    <tr>\n",
       "      <th>111</th>\n",
       "      <td>45</td>\n",
       "      <td>26.850000</td>\n",
       "      <td>92</td>\n",
       "      <td>3.330</td>\n",
       "      <td>0.755688</td>\n",
       "      <td>54.6800</td>\n",
       "      <td>12.100000</td>\n",
       "      <td>10.96000</td>\n",
       "      <td>268.230</td>\n",
       "      <td>2</td>\n",
       "    </tr>\n",
       "    <tr>\n",
       "      <th>112</th>\n",
       "      <td>62</td>\n",
       "      <td>26.840000</td>\n",
       "      <td>100</td>\n",
       "      <td>4.530</td>\n",
       "      <td>1.117400</td>\n",
       "      <td>12.4500</td>\n",
       "      <td>21.420000</td>\n",
       "      <td>7.32000</td>\n",
       "      <td>330.160</td>\n",
       "      <td>2</td>\n",
       "    </tr>\n",
       "    <tr>\n",
       "      <th>113</th>\n",
       "      <td>65</td>\n",
       "      <td>32.050000</td>\n",
       "      <td>97</td>\n",
       "      <td>5.730</td>\n",
       "      <td>1.370998</td>\n",
       "      <td>61.4800</td>\n",
       "      <td>22.540000</td>\n",
       "      <td>10.33000</td>\n",
       "      <td>314.050</td>\n",
       "      <td>2</td>\n",
       "    </tr>\n",
       "    <tr>\n",
       "      <th>114</th>\n",
       "      <td>72</td>\n",
       "      <td>25.590000</td>\n",
       "      <td>82</td>\n",
       "      <td>2.820</td>\n",
       "      <td>0.570392</td>\n",
       "      <td>24.9600</td>\n",
       "      <td>33.750000</td>\n",
       "      <td>3.27000</td>\n",
       "      <td>392.460</td>\n",
       "      <td>2</td>\n",
       "    </tr>\n",
       "    <tr>\n",
       "      <th>115</th>\n",
       "      <td>86</td>\n",
       "      <td>27.180000</td>\n",
       "      <td>138</td>\n",
       "      <td>19.910</td>\n",
       "      <td>6.777364</td>\n",
       "      <td>90.2800</td>\n",
       "      <td>14.110000</td>\n",
       "      <td>4.35000</td>\n",
       "      <td>90.090</td>\n",
       "      <td>2</td>\n",
       "    </tr>\n",
       "  </tbody>\n",
       "</table>\n",
       "<p>116 rows × 10 columns</p>\n",
       "</div>"
      ],
      "text/plain": [
       "     Age        BMI  Glucose  ...  Resistin    MCP.1  Classification\n",
       "0     48  23.500000       70  ...   7.99585  417.114               1\n",
       "1     83  20.690495       92  ...   4.06405  468.786               1\n",
       "2     82  23.124670       91  ...   9.27715  554.697               1\n",
       "3     68  21.367521       77  ...  12.76600  928.220               1\n",
       "4     86  21.111111       92  ...  10.57635  773.920               1\n",
       "..   ...        ...      ...  ...       ...      ...             ...\n",
       "111   45  26.850000       92  ...  10.96000  268.230               2\n",
       "112   62  26.840000      100  ...   7.32000  330.160               2\n",
       "113   65  32.050000       97  ...  10.33000  314.050               2\n",
       "114   72  25.590000       82  ...   3.27000  392.460               2\n",
       "115   86  27.180000      138  ...   4.35000   90.090               2\n",
       "\n",
       "[116 rows x 10 columns]"
      ]
     },
     "execution_count": 2,
     "metadata": {},
     "output_type": "execute_result"
    }
   ],
   "source": [
    "from google.colab import files\n",
    "\n",
    "uploaded = files.upload()\n",
    "\n",
    "df = pd.read_csv(\"dataR2.csv\")\n",
    "df"
   ]
  },
  {
   "cell_type": "code",
   "execution_count": null,
   "metadata": {
    "id": "dBKhS3rx19FV"
   },
   "outputs": [],
   "source": [
    "df2 = df[[\"Age\",\"BMI\",\"Glucose\",\"Insulin\",\"HOMA\",\"Leptin\",\"Adiponectin\",\"Resistin\",\"MCP.1\"]]"
   ]
  },
  {
   "cell_type": "code",
   "execution_count": null,
   "metadata": {
    "colab": {
     "base_uri": "https://localhost:8080/",
     "height": 193
    },
    "id": "CzfzMAfoDjQq",
    "outputId": "333d779a-21b9-45ae-eff6-25ed469e7fec"
   },
   "outputs": [
    {
     "data": {
      "text/html": [
       "<div>\n",
       "<style scoped>\n",
       "    .dataframe tbody tr th:only-of-type {\n",
       "        vertical-align: middle;\n",
       "    }\n",
       "\n",
       "    .dataframe tbody tr th {\n",
       "        vertical-align: top;\n",
       "    }\n",
       "\n",
       "    .dataframe thead tr th {\n",
       "        text-align: left;\n",
       "    }\n",
       "\n",
       "    .dataframe thead tr:last-of-type th {\n",
       "        text-align: right;\n",
       "    }\n",
       "</style>\n",
       "<table border=\"1\" class=\"dataframe\">\n",
       "  <thead>\n",
       "    <tr>\n",
       "      <th></th>\n",
       "      <th colspan=\"8\" halign=\"left\">Age</th>\n",
       "      <th colspan=\"8\" halign=\"left\">BMI</th>\n",
       "      <th colspan=\"8\" halign=\"left\">Glucose</th>\n",
       "      <th colspan=\"8\" halign=\"left\">Insulin</th>\n",
       "      <th colspan=\"8\" halign=\"left\">HOMA</th>\n",
       "      <th colspan=\"8\" halign=\"left\">Leptin</th>\n",
       "      <th colspan=\"8\" halign=\"left\">Adiponectin</th>\n",
       "      <th colspan=\"8\" halign=\"left\">Resistin</th>\n",
       "      <th colspan=\"8\" halign=\"left\">MCP.1</th>\n",
       "    </tr>\n",
       "    <tr>\n",
       "      <th></th>\n",
       "      <th>count</th>\n",
       "      <th>mean</th>\n",
       "      <th>std</th>\n",
       "      <th>min</th>\n",
       "      <th>25%</th>\n",
       "      <th>50%</th>\n",
       "      <th>75%</th>\n",
       "      <th>max</th>\n",
       "      <th>count</th>\n",
       "      <th>mean</th>\n",
       "      <th>std</th>\n",
       "      <th>min</th>\n",
       "      <th>25%</th>\n",
       "      <th>50%</th>\n",
       "      <th>75%</th>\n",
       "      <th>max</th>\n",
       "      <th>count</th>\n",
       "      <th>mean</th>\n",
       "      <th>std</th>\n",
       "      <th>min</th>\n",
       "      <th>25%</th>\n",
       "      <th>50%</th>\n",
       "      <th>75%</th>\n",
       "      <th>max</th>\n",
       "      <th>count</th>\n",
       "      <th>mean</th>\n",
       "      <th>std</th>\n",
       "      <th>min</th>\n",
       "      <th>25%</th>\n",
       "      <th>50%</th>\n",
       "      <th>75%</th>\n",
       "      <th>max</th>\n",
       "      <th>count</th>\n",
       "      <th>mean</th>\n",
       "      <th>std</th>\n",
       "      <th>min</th>\n",
       "      <th>25%</th>\n",
       "      <th>50%</th>\n",
       "      <th>75%</th>\n",
       "      <th>max</th>\n",
       "      <th>count</th>\n",
       "      <th>mean</th>\n",
       "      <th>std</th>\n",
       "      <th>min</th>\n",
       "      <th>25%</th>\n",
       "      <th>50%</th>\n",
       "      <th>75%</th>\n",
       "      <th>max</th>\n",
       "      <th>count</th>\n",
       "      <th>mean</th>\n",
       "      <th>std</th>\n",
       "      <th>min</th>\n",
       "      <th>25%</th>\n",
       "      <th>50%</th>\n",
       "      <th>75%</th>\n",
       "      <th>max</th>\n",
       "      <th>count</th>\n",
       "      <th>mean</th>\n",
       "      <th>std</th>\n",
       "      <th>min</th>\n",
       "      <th>25%</th>\n",
       "      <th>50%</th>\n",
       "      <th>75%</th>\n",
       "      <th>max</th>\n",
       "      <th>count</th>\n",
       "      <th>mean</th>\n",
       "      <th>std</th>\n",
       "      <th>min</th>\n",
       "      <th>25%</th>\n",
       "      <th>50%</th>\n",
       "      <th>75%</th>\n",
       "      <th>max</th>\n",
       "    </tr>\n",
       "    <tr>\n",
       "      <th>Classification</th>\n",
       "      <th></th>\n",
       "      <th></th>\n",
       "      <th></th>\n",
       "      <th></th>\n",
       "      <th></th>\n",
       "      <th></th>\n",
       "      <th></th>\n",
       "      <th></th>\n",
       "      <th></th>\n",
       "      <th></th>\n",
       "      <th></th>\n",
       "      <th></th>\n",
       "      <th></th>\n",
       "      <th></th>\n",
       "      <th></th>\n",
       "      <th></th>\n",
       "      <th></th>\n",
       "      <th></th>\n",
       "      <th></th>\n",
       "      <th></th>\n",
       "      <th></th>\n",
       "      <th></th>\n",
       "      <th></th>\n",
       "      <th></th>\n",
       "      <th></th>\n",
       "      <th></th>\n",
       "      <th></th>\n",
       "      <th></th>\n",
       "      <th></th>\n",
       "      <th></th>\n",
       "      <th></th>\n",
       "      <th></th>\n",
       "      <th></th>\n",
       "      <th></th>\n",
       "      <th></th>\n",
       "      <th></th>\n",
       "      <th></th>\n",
       "      <th></th>\n",
       "      <th></th>\n",
       "      <th></th>\n",
       "      <th></th>\n",
       "      <th></th>\n",
       "      <th></th>\n",
       "      <th></th>\n",
       "      <th></th>\n",
       "      <th></th>\n",
       "      <th></th>\n",
       "      <th></th>\n",
       "      <th></th>\n",
       "      <th></th>\n",
       "      <th></th>\n",
       "      <th></th>\n",
       "      <th></th>\n",
       "      <th></th>\n",
       "      <th></th>\n",
       "      <th></th>\n",
       "      <th></th>\n",
       "      <th></th>\n",
       "      <th></th>\n",
       "      <th></th>\n",
       "      <th></th>\n",
       "      <th></th>\n",
       "      <th></th>\n",
       "      <th></th>\n",
       "      <th></th>\n",
       "      <th></th>\n",
       "      <th></th>\n",
       "      <th></th>\n",
       "      <th></th>\n",
       "      <th></th>\n",
       "      <th></th>\n",
       "      <th></th>\n",
       "    </tr>\n",
       "  </thead>\n",
       "  <tbody>\n",
       "    <tr>\n",
       "      <th>1</th>\n",
       "      <td>52.0</td>\n",
       "      <td>58.076923</td>\n",
       "      <td>18.957999</td>\n",
       "      <td>24.0</td>\n",
       "      <td>41.75</td>\n",
       "      <td>65.0</td>\n",
       "      <td>75.0</td>\n",
       "      <td>89.0</td>\n",
       "      <td>52.0</td>\n",
       "      <td>28.317336</td>\n",
       "      <td>5.427465</td>\n",
       "      <td>18.67</td>\n",
       "      <td>23.096003</td>\n",
       "      <td>27.694389</td>\n",
       "      <td>32.328091</td>\n",
       "      <td>38.578759</td>\n",
       "      <td>52.0</td>\n",
       "      <td>88.230769</td>\n",
       "      <td>10.191529</td>\n",
       "      <td>60.0</td>\n",
       "      <td>82.75</td>\n",
       "      <td>87.0</td>\n",
       "      <td>93.25</td>\n",
       "      <td>118.0</td>\n",
       "      <td>52.0</td>\n",
       "      <td>6.933769</td>\n",
       "      <td>4.859793</td>\n",
       "      <td>2.707</td>\n",
       "      <td>4.304</td>\n",
       "      <td>5.4835</td>\n",
       "      <td>7.001</td>\n",
       "      <td>26.211</td>\n",
       "      <td>52.0</td>\n",
       "      <td>1.552398</td>\n",
       "      <td>1.218256</td>\n",
       "      <td>0.467409</td>\n",
       "      <td>0.879510</td>\n",
       "      <td>1.139683</td>\n",
       "      <td>1.774561</td>\n",
       "      <td>7.111918</td>\n",
       "      <td>52.0</td>\n",
       "      <td>26.637933</td>\n",
       "      <td>19.334699</td>\n",
       "      <td>4.3110</td>\n",
       "      <td>11.845750</td>\n",
       "      <td>21.49485</td>\n",
       "      <td>36.7216</td>\n",
       "      <td>83.4821</td>\n",
       "      <td>52.0</td>\n",
       "      <td>10.328205</td>\n",
       "      <td>7.631281</td>\n",
       "      <td>2.19428</td>\n",
       "      <td>5.454286</td>\n",
       "      <td>8.127775</td>\n",
       "      <td>10.820219</td>\n",
       "      <td>38.04</td>\n",
       "      <td>52.0</td>\n",
       "      <td>11.614813</td>\n",
       "      <td>11.447053</td>\n",
       "      <td>3.29175</td>\n",
       "      <td>6.597523</td>\n",
       "      <td>8.929190</td>\n",
       "      <td>12.808525</td>\n",
       "      <td>82.1000</td>\n",
       "      <td>52.0</td>\n",
       "      <td>499.730692</td>\n",
       "      <td>292.242157</td>\n",
       "      <td>45.843</td>\n",
       "      <td>260.73650</td>\n",
       "      <td>471.3225</td>\n",
       "      <td>642.9335</td>\n",
       "      <td>1256.083</td>\n",
       "    </tr>\n",
       "    <tr>\n",
       "      <th>2</th>\n",
       "      <td>64.0</td>\n",
       "      <td>56.671875</td>\n",
       "      <td>13.493155</td>\n",
       "      <td>34.0</td>\n",
       "      <td>45.00</td>\n",
       "      <td>53.0</td>\n",
       "      <td>68.0</td>\n",
       "      <td>86.0</td>\n",
       "      <td>64.0</td>\n",
       "      <td>26.984740</td>\n",
       "      <td>4.620398</td>\n",
       "      <td>18.37</td>\n",
       "      <td>22.788722</td>\n",
       "      <td>27.408027</td>\n",
       "      <td>30.810069</td>\n",
       "      <td>37.109375</td>\n",
       "      <td>64.0</td>\n",
       "      <td>105.562500</td>\n",
       "      <td>26.557440</td>\n",
       "      <td>70.0</td>\n",
       "      <td>92.00</td>\n",
       "      <td>98.5</td>\n",
       "      <td>109.00</td>\n",
       "      <td>201.0</td>\n",
       "      <td>64.0</td>\n",
       "      <td>12.513219</td>\n",
       "      <td>12.317738</td>\n",
       "      <td>2.432</td>\n",
       "      <td>4.406</td>\n",
       "      <td>7.5800</td>\n",
       "      <td>16.063</td>\n",
       "      <td>58.460</td>\n",
       "      <td>64.0</td>\n",
       "      <td>3.623342</td>\n",
       "      <td>4.588943</td>\n",
       "      <td>0.507936</td>\n",
       "      <td>1.036842</td>\n",
       "      <td>2.052256</td>\n",
       "      <td>4.461312</td>\n",
       "      <td>25.050342</td>\n",
       "      <td>64.0</td>\n",
       "      <td>26.596512</td>\n",
       "      <td>19.212451</td>\n",
       "      <td>6.3339</td>\n",
       "      <td>12.402925</td>\n",
       "      <td>18.87765</td>\n",
       "      <td>37.3783</td>\n",
       "      <td>90.2800</td>\n",
       "      <td>64.0</td>\n",
       "      <td>10.061167</td>\n",
       "      <td>6.189466</td>\n",
       "      <td>1.65602</td>\n",
       "      <td>5.484117</td>\n",
       "      <td>8.446438</td>\n",
       "      <td>12.254740</td>\n",
       "      <td>33.75</td>\n",
       "      <td>64.0</td>\n",
       "      <td>17.253777</td>\n",
       "      <td>12.636979</td>\n",
       "      <td>3.21000</td>\n",
       "      <td>8.113675</td>\n",
       "      <td>14.371825</td>\n",
       "      <td>22.965170</td>\n",
       "      <td>55.2153</td>\n",
       "      <td>64.0</td>\n",
       "      <td>563.016500</td>\n",
       "      <td>384.001622</td>\n",
       "      <td>90.090</td>\n",
       "      <td>299.18825</td>\n",
       "      <td>465.3740</td>\n",
       "      <td>737.7625</td>\n",
       "      <td>1698.440</td>\n",
       "    </tr>\n",
       "  </tbody>\n",
       "</table>\n",
       "</div>"
      ],
      "text/plain": [
       "                 Age                        ...     MCP.1                    \n",
       "               count       mean        std  ...       50%       75%       max\n",
       "Classification                              ...                              \n",
       "1               52.0  58.076923  18.957999  ...  471.3225  642.9335  1256.083\n",
       "2               64.0  56.671875  13.493155  ...  465.3740  737.7625  1698.440\n",
       "\n",
       "[2 rows x 72 columns]"
      ]
     },
     "execution_count": 4,
     "metadata": {},
     "output_type": "execute_result"
    }
   ],
   "source": [
    "df.groupby('Classification').describe()"
   ]
  },
  {
   "cell_type": "markdown",
   "metadata": {
    "id": "qABvNDTmFrHy"
   },
   "source": []
  },
  {
   "cell_type": "markdown",
   "metadata": {
    "id": "KqO9yzXSFq-t"
   },
   "source": []
  },
  {
   "cell_type": "markdown",
   "metadata": {
    "id": "ikvcNMWaMEIf"
   },
   "source": [
    "##1. Estandarizar los datos y separar en conjunto de entrenamiento y test"
   ]
  },
  {
   "cell_type": "code",
   "execution_count": null,
   "metadata": {
    "id": "ZnqwMZv2MEIf"
   },
   "outputs": [],
   "source": [
    "from sklearn import datasets\n",
    "from sklearn.metrics import precision_recall_fscore_support as score\n",
    "\n",
    "X = df.iloc[:, 0:9].values\n",
    "y = df.iloc[:,9].values"
   ]
  },
  {
   "cell_type": "code",
   "execution_count": null,
   "metadata": {
    "id": "UPOEwkT-NBIo"
   },
   "outputs": [],
   "source": [
    "from sklearn.model_selection import train_test_split\n",
    "\n",
    "X_train, X_test, y_train, y_test = train_test_split(X, y, \n",
    "                test_size=0.3, random_state=1, stratify=y)"
   ]
  },
  {
   "cell_type": "code",
   "execution_count": null,
   "metadata": {
    "id": "nUlnqn3tNH1G"
   },
   "outputs": [],
   "source": [
    "from sklearn.preprocessing import StandardScaler\n",
    "\n",
    "sc = StandardScaler()\n",
    "sc.fit(X_train)\n",
    "X_train_std = sc.transform(X_train)\n",
    "X_test_std = sc.transform(X_test)\n",
    "\n",
    "Z = sc.fit(X)"
   ]
  },
  {
   "cell_type": "markdown",
   "metadata": {
    "id": "1u1IrO9-MEIf"
   },
   "source": [
    "##2. Aplicar como clasificador el SVM con kernel radio basal"
   ]
  },
  {
   "cell_type": "code",
   "execution_count": null,
   "metadata": {
    "id": "r63EbXZmMEIg"
   },
   "outputs": [],
   "source": [
    "from sklearn.svm import SVC\n",
    "svm = SVC(kernel = 'rbf', gamma=0.10, C=10.0)\n",
    "svm.fit(X_train_std, y_train)\n",
    "y_pred = svm.predict(X_test_std)\n",
    "from sklearn.metrics import confusion_matrix\n",
    "tn, fp, fn, tp = confusion_matrix(y_test, y_pred).ravel()\n"
   ]
  },
  {
   "cell_type": "markdown",
   "metadata": {
    "id": "nWVkv79CMEIg"
   },
   "source": [
    "#3. Obtener las métricas de desempeño de la clasificación"
   ]
  },
  {
   "cell_type": "code",
   "execution_count": null,
   "metadata": {
    "colab": {
     "base_uri": "https://localhost:8080/"
    },
    "id": "HC-ro7G3MEIg",
    "outputId": "c45e98f7-0b9f-4c9f-b51e-8d0619e8c7cf"
   },
   "outputs": [
    {
     "name": "stdout",
     "output_type": "stream",
     "text": [
      "Specificity: 0.6875\n",
      "Accuracy: 0.7143\n",
      "precision: [0.6875     0.73684211]\n",
      "recall: [0.6875     0.73684211]\n",
      "f-measure: [0.6875     0.73684211]\n"
     ]
    }
   ],
   "source": [
    "from sklearn.metrics import accuracy_score\n",
    "specificity = tn / (tn + fp)  #(VN/VN+FP)\n",
    "print('Specificity:', specificity)\n",
    "precision, recall, fscore,_ = score(y_test, y_pred)\n",
    "print('Accuracy: %.4f' % accuracy_score(y_test, y_pred))\n",
    "print('precision: {}'.format(precision))\n",
    "print('recall: {}'.format(recall))\n",
    "print('f-measure: {}'.format(fscore))"
   ]
  },
  {
   "cell_type": "markdown",
   "metadata": {
    "id": "pWUtb_GJMEIg"
   },
   "source": [
    "#4. Aplicar PCA y realizar el gráfico de Biplot. Interpretar los resultados obtenidos"
   ]
  },
  {
   "cell_type": "code",
   "execution_count": null,
   "metadata": {
    "colab": {
     "base_uri": "https://localhost:8080/"
    },
    "id": "mw3ftHFLMEIg",
    "outputId": "f27c515c-8ffd-4eaa-c5b6-30bc28443649"
   },
   "outputs": [
    {
     "data": {
      "text/plain": [
       "array([[-1.18146799e+02, -3.37476713e+01, -5.28153467e-02, ...,\n",
       "        -2.14712523e+00,  1.16918653e+00,  1.79880348e-01],\n",
       "       [-6.61260697e+01, -1.03584355e+01, -2.30646641e+01, ...,\n",
       "        -4.53517516e+00, -2.18689222e-02,  4.78356699e-01],\n",
       "       [ 1.97681469e+01, -7.54956009e+00, -1.35295269e+01, ...,\n",
       "         7.58800316e-01, -1.50169087e-01,  4.34688925e-01],\n",
       "       ...,\n",
       "       [-2.20636437e+02,  2.10773174e+01,  2.41733144e+01, ...,\n",
       "         2.59915860e+00, -1.79976957e-01, -6.84250885e-01],\n",
       "       [-1.42707755e+02, -1.18388329e+01, -1.67101012e+00, ...,\n",
       "         4.53664528e+00,  2.86699600e-01, -8.26901949e-01],\n",
       "       [-4.43763394e+02,  7.90052869e+01,  1.76453666e+01, ...,\n",
       "        -6.62439336e+00, -9.53528198e-01, -1.69338414e-01]])"
      ]
     },
     "execution_count": 10,
     "metadata": {},
     "output_type": "execute_result"
    }
   ],
   "source": [
    "n = len(df.columns)\n",
    "pca = PCA(n_components = n)\n",
    "#pca.fit.(df)\n",
    "pca.fit_transform(df)"
   ]
  },
  {
   "cell_type": "code",
   "execution_count": null,
   "metadata": {
    "colab": {
     "base_uri": "https://localhost:8080/"
    },
    "id": "60ipGay21kQu",
    "outputId": "01558114-e6f5-4a24-a227-536a561d1c24"
   },
   "outputs": [
    {
     "name": "stdout",
     "output_type": "stream",
     "text": [
      "----------------------------------------------------\n",
      "Porcentaje de varianza explicada por cada componente\n",
      "----------------------------------------------------\n",
      "[9.88345332e-01 5.20397007e-03 2.45231505e-03 1.95870037e-03\n",
      " 9.95401598e-04 5.84354113e-04 3.44379860e-04 1.08433224e-04\n",
      " 5.69743980e-06 1.41583235e-06]\n"
     ]
    }
   ],
   "source": [
    "# Porcentaje de varianza explicada por cada componente\n",
    "# ==============================================================================\n",
    "print('----------------------------------------------------')\n",
    "print('Porcentaje de varianza explicada por cada componente')\n",
    "print('----------------------------------------------------')\n",
    "print(pca.explained_variance_ratio_)"
   ]
  },
  {
   "cell_type": "code",
   "execution_count": null,
   "metadata": {
    "colab": {
     "base_uri": "https://localhost:8080/"
    },
    "id": "Nj3_8Lkelchz",
    "outputId": "843b5715-efc9-43ce-a058-a96451672c0a"
   },
   "outputs": [
    {
     "data": {
      "text/plain": [
       "array([99.,  1.,  0.,  0.,  0.,  0.,  0.,  0.,  0.,  0.])"
      ]
     },
     "execution_count": 13,
     "metadata": {},
     "output_type": "execute_result"
    }
   ],
   "source": [
    "np.round(pca.explained_variance_ratio_*100)"
   ]
  },
  {
   "cell_type": "code",
   "execution_count": null,
   "metadata": {
    "colab": {
     "base_uri": "https://localhost:8080/"
    },
    "id": "ifKmuGUnO1_r",
    "outputId": "8f92bf7e-2d78-46fb-e11e-8799371c973f"
   },
   "outputs": [
    {
     "data": {
      "text/plain": [
       "array([ 6.41520052e-04,  3.25417927e-03,  1.73255751e-02,  5.09492460e-03,\n",
       "        2.74181432e-03,  8.09589230e-04, -3.97450515e-03,  1.31477784e-02,\n",
       "        9.99732971e-01,  1.32684806e-04])"
      ]
     },
     "execution_count": 14,
     "metadata": {},
     "output_type": "execute_result"
    }
   ],
   "source": [
    "pca.components_\n",
    "xvector = pca.components_[0] # Vector de la componente principal 1 \n",
    "yvector = pca.components_[1] # Vector de la componente principal 2\n",
    "\n",
    "xvector"
   ]
  },
  {
   "cell_type": "code",
   "execution_count": null,
   "metadata": {
    "colab": {
     "base_uri": "https://localhost:8080/",
     "height": 336
    },
    "id": "sD-H9PWOO9bL",
    "outputId": "6a715c01-b250-46e1-8820-a4553f2d8fcf"
   },
   "outputs": [
    {
     "data": {
      "image/png": "[encoded data removed]",
      "text/plain": [
       "<Figure size 432x288 with 1 Axes>"
      ]
     },
     "metadata": {
      "needs_background": "light"
     },
     "output_type": "display_data"
    },
    {
     "name": "stdout",
     "output_type": "stream",
     "text": [
      "[1.19719267e+05 6.30362143e+02 2.97051395e+02 2.37259351e+02\n",
      " 1.20574000e+02 7.07834031e+01 4.17150798e+01 1.31346258e+01\n",
      " 6.90136629e-01 1.71501200e-01]\n"
     ]
    }
   ],
   "source": [
    "# Varianza total explicada (valores propios)\n",
    "valores_propios = pca.explained_variance_ \n",
    "valores_propios\n",
    "\n",
    "plt.bar(np.arange(1,n+1), valores_propios, width=0.8, align = 'center' )\n",
    "plt.plot(np.arange(1,n+1), valores_propios,'-*k')\n",
    "plt.xlabel('number of components')\n",
    "plt.ylabel('cumulative explained variance')\n",
    "plt.show()\n",
    "print(valores_propios)"
   ]
  },
  {
   "cell_type": "code",
   "execution_count": null,
   "metadata": {
    "colab": {
     "base_uri": "https://localhost:8080/"
    },
    "id": "uSt75f1JZ5lE",
    "outputId": "525efe72-433e-4ee0-ecfb-2e23368eb30f"
   },
   "outputs": [
    {
     "data": {
      "text/plain": [
       "array([-0.34911523,  0.14540018, -0.46011376, -0.01287123, -0.02723819,\n",
       "        0.79025416,  0.00085951,  0.14071962,  0.00537847, -0.00563593])"
      ]
     },
     "execution_count": 17,
     "metadata": {},
     "output_type": "execute_result"
    }
   ],
   "source": [
    "W = pca.transform(df)\n",
    "xs = W[:,0]\n",
    "ys = W[:,1]\n",
    "xvector = pca.components_[0]\n",
    "yvector = pca.components_[1]\n"
   ]
  },
  {
   "cell_type": "markdown",
   "metadata": {
    "id": "1If0odOgo9Jt"
   },
   "source": [
    "Grafico Bi-plot"
   ]
  },
  {
   "cell_type": "code",
   "execution_count": null,
   "metadata": {
    "colab": {
     "base_uri": "https://localhost:8080/",
     "height": 296
    },
    "id": "ngH8-wqGYDzq",
    "outputId": "13b47846-ac43-41e4-8ffa-e92c87ee4de2"
   },
   "outputs": [
    {
     "data": {
      "image/png": "[encoded data removed]",
      "text/plain": [
       "<Figure size 432x288 with 1 Axes>"
      ]
     },
     "metadata": {
      "needs_background": "light"
     },
     "output_type": "display_data"
    }
   ],
   "source": [
    "features = df.columns.values\n",
    "for i in range(len(xvector)):\n",
    "    plt.arrow(0,0,xvector[i]*max(xs), yvector[i]*max(ys), color = 'k', width = 0.005, head_width = 0.1)\n",
    "    plt.text(xvector[i]*max(xs),yvector[i]*max(ys), list(features)[i], color = 'k')\n",
    "colores = 'gby'\n",
    "for i in range(len(xs)):\n",
    "  plt.plot(xs[i], ys[i], alpha = 0.5)\n",
    "  plt.text(xs[i]*1.2, ys[i]*1.2, list(df.index)[i], alpha = 0.3)\n",
    "  "
   ]
  },
  {
   "cell_type": "code",
   "execution_count": null,
   "metadata": {
    "colab": {
     "base_uri": "https://localhost:8080/"
    },
    "id": "Fk4gqqdd91wD",
    "outputId": "31f44d9a-af36-4281-eef1-434ddc370eca"
   },
   "outputs": [
    {
     "name": "stdout",
     "output_type": "stream",
     "text": [
      "----------------------------------------------------\n",
      "Porcentaje de varianza explicada por cada componente\n",
      "----------------------------------------------------\n",
      "[9.88345332e-01 5.20397007e-03 2.45231505e-03 1.95870037e-03\n",
      " 9.95401598e-04 5.84354113e-04 3.44379860e-04 1.08433224e-04\n",
      " 5.69743980e-06 1.41583235e-06]\n"
     ]
    }
   ],
   "source": [
    "pca\n",
    "# Porcentaje de varianza explicada por cada componente\n",
    "# ==============================================================================\n",
    "print('----------------------------------------------------')\n",
    "print('Porcentaje de varianza explicada por cada componente')\n",
    "print('----------------------------------------------------')\n",
    "print(pca.explained_variance_ratio_)"
   ]
  },
  {
   "cell_type": "markdown",
   "metadata": {
    "id": "wulK5ObHOUn4"
   },
   "source": [
    "Del gráfico biplot se puede apreciar que para la primera componente principal P1, la variable que tiene mayor predominancia es la MCP-1, y para la segunda componente P2, es la glucosa. Por lo tanto estas son las varibales que mejor explican la variacion en las dos primeras componentes principales."
   ]
  },
  {
   "cell_type": "markdown",
   "metadata": {
    "id": "gzx5j48AMEIh"
   },
   "source": [
    "#5. Realizar el gráfico Scree-plot relativo a la contribución a la varianza de cada componente."
   ]
  },
  {
   "cell_type": "markdown",
   "metadata": {
    "id": "p1wcz9JUpCZq"
   },
   "source": [
    "Grafico Scree plot"
   ]
  },
  {
   "cell_type": "code",
   "execution_count": null,
   "metadata": {
    "colab": {
     "base_uri": "https://localhost:8080/",
     "height": 336
    },
    "id": "4jB332UwPDQN",
    "outputId": "1f5ea931-4818-4d44-ccb8-40ca9a084e46"
   },
   "outputs": [
    {
     "data": {
      "image/png": "[encoded data removed]",
      "text/plain": [
       "<Figure size 432x288 with 1 Axes>"
      ]
     },
     "metadata": {
      "needs_background": "light"
     },
     "output_type": "display_data"
    },
    {
     "name": "stdout",
     "output_type": "stream",
     "text": [
      "[9.88345332e-01 5.20397007e-03 2.45231505e-03 1.95870037e-03\n",
      " 9.95401598e-04 5.84354113e-04 3.44379860e-04 1.08433224e-04\n",
      " 5.69743980e-06 1.41583235e-06]\n"
     ]
    }
   ],
   "source": [
    "# Varianza proporcional explicada\n",
    "var_ratio = pca.explained_variance_ratio_\n",
    "plt.bar(np.arange(1,n+1), var_ratio, width=0.8, align = 'center' )\n",
    "plt.plot(np.arange(1,n+1), var_ratio,'-*k')\n",
    "plt.xlabel('number of components')\n",
    "plt.ylabel('cumulative explained variance')\n",
    "plt.show()\n",
    "print(var_ratio)"
   ]
  },
  {
   "cell_type": "markdown",
   "metadata": {
    "id": "6Yeg3ud3MEIh"
   },
   "source": [
    "#6. Seleccionar las caracteristicas que justifican el 70\\% de la varianza"
   ]
  },
  {
   "cell_type": "code",
   "execution_count": null,
   "metadata": {
    "id": "DHTxBRYiMEIi"
   },
   "outputs": [],
   "source": [
    "## MCP1 y Insulinda tienen mayor peso en cada las componentes.\n",
    "x = df.iloc[:,8:9].values     ## seleccionar caracteristicas\n",
    "Y = df.iloc[:,3:4].values   \n",
    "\n"
   ]
  },
  {
   "cell_type": "markdown",
   "metadata": {
    "id": "lJA3vHXLMEIi"
   },
   "source": [
    "#7. Aplicar como clasificador el SVM con kernel radio basal a las características seleccionadas y obtener la métricas de desempeño. Concluir"
   ]
  },
  {
   "cell_type": "code",
   "execution_count": null,
   "metadata": {
    "id": "WXYJ5nlGxbmO"
   },
   "outputs": [],
   "source": [
    "from sklearn.preprocessing import StandardScaler\n",
    "sc = StandardScaler()\n",
    "sc.fit(X_train)\n",
    "X_train_std = sc.transform(X_train)\n",
    "X_test_std = sc.transform(X_test)\n"
   ]
  },
  {
   "cell_type": "code",
   "execution_count": null,
   "metadata": {
    "colab": {
     "base_uri": "https://localhost:8080/"
    },
    "id": "QnrD3vGNMEIi",
    "outputId": "01db4471-c753-452b-d36e-475bc2813943"
   },
   "outputs": [
    {
     "name": "stdout",
     "output_type": "stream",
     "text": [
      "Specificity: 0.6875\n",
      "Accuracy: 0.7143\n",
      "precision: [0.6875     0.73684211]\n",
      "recall: [0.6875     0.73684211]\n",
      "f-measure: [0.6875     0.73684211]\n"
     ]
    }
   ],
   "source": [
    "from sklearn.svm import SVC       \n",
    "####### \n",
    "svc = SVC(kernel = 'rbf', gamma=0.10, C=10.0)\n",
    "svm.fit(X_train_std, y_train)\n",
    "y_pred = svm.predict(X_test_std)\n",
    "### metricas de desempeño\n",
    "from sklearn.metrics import confusion_matrix\n",
    "from sklearn.metrics import accuracy_score\n",
    "tn, fp, fn, tp = confusion_matrix(y_test, y_pred).ravel()\n",
    "specificity = tn / (tn + fp)  #(VN/VN+FP)\n",
    "print('Specificity:', specificity)\n",
    "precision, recall, fscore,_ = score(y_test, y_pred)\n",
    "print('Accuracy: %.4f' % accuracy_score(y_test, y_pred))\n",
    "print('precision: {}'.format(precision))\n",
    "print('recall: {}'.format(recall))\n",
    "print('f-measure: {}'.format(fscore))"
   ]
  },
  {
   "cell_type": "code",
   "execution_count": null,
   "metadata": {
    "id": "FCiSQmUjqNui"
   },
   "outputs": [],
   "source": [
    "# con PCA \n",
    "pca = PCA()\n",
    "pca2 = pca.fit(X_train_std)\n",
    "X_train = pca2.transform(X_train_std)\n",
    "X_test = pca2.transform(X_test_std)"
   ]
  },
  {
   "cell_type": "code",
   "execution_count": null,
   "metadata": {
    "colab": {
     "base_uri": "https://localhost:8080/"
    },
    "id": "H1cgf-3qnBJb",
    "outputId": "e324bbb4-3453-4363-f25d-7a52398af3a4"
   },
   "outputs": [
    {
     "data": {
      "text/plain": [
       "array([0.30990019, 0.17515809, 0.15453831, 0.11793318, 0.08956134,\n",
       "       0.06478885, 0.05180945, 0.03265207, 0.00365853])"
      ]
     },
     "execution_count": 35,
     "metadata": {},
     "output_type": "execute_result"
    }
   ],
   "source": [
    "var_ratio"
   ]
  },
  {
   "cell_type": "code",
   "execution_count": null,
   "metadata": {
    "colab": {
     "base_uri": "https://localhost:8080/",
     "height": 319
    },
    "id": "gtGSKaVJr2eO",
    "outputId": "6866d16a-b287-479a-c9e6-c9592a8bc150"
   },
   "outputs": [
    {
     "data": {
      "image/png": "[encoded data removed]",
      "text/plain": [
       "<Figure size 432x288 with 1 Axes>"
      ]
     },
     "metadata": {
      "needs_background": "light"
     },
     "output_type": "display_data"
    },
    {
     "name": "stdout",
     "output_type": "stream",
     "text": [
      "[0.30990019 0.17515809 0.15453831 0.11793318 0.08956134 0.06478885\n",
      " 0.05180945 0.03265207 0.00365853]\n"
     ]
    }
   ],
   "source": [
    "var_ratio = pca2.explained_variance_ratio_\n",
    "plt.bar(np.arange(1,n), var_ratio, width=0.8, align = 'center' )\n",
    "plt.plot(np.arange(1,n), var_ratio,'-*k')\n",
    "plt.xlabel('number of components')\n",
    "plt.ylabel('cumulative explained variance')\n",
    "plt.show()\n",
    "print(var_ratio)"
   ]
  },
  {
   "cell_type": "code",
   "execution_count": null,
   "metadata": {
    "colab": {
     "base_uri": "https://localhost:8080/"
    },
    "id": "xHJW3ZihnVmq",
    "outputId": "e22cf44f-39b2-434d-e76a-6b052fd02f5a"
   },
   "outputs": [
    {
     "data": {
      "text/plain": [
       "0.8470911063007708"
      ]
     },
     "execution_count": 38,
     "metadata": {},
     "output_type": "execute_result"
    }
   ],
   "source": [
    "np.sum(pca2.explained_variance_ratio_[:5])  #Varianza explicada por las primeras 5 componentes"
   ]
  },
  {
   "cell_type": "code",
   "execution_count": null,
   "metadata": {
    "id": "QzjzHwxJnfO0"
   },
   "outputs": [],
   "source": [
    "# con PCA \n",
    "pca = PCA(n_components=7)\n",
    "pca2 = pca.fit(X_train_std)\n",
    "X_train = pca2.transform(X_train_std)\n",
    "X_test = pca2.transform(X_test_std)"
   ]
  },
  {
   "cell_type": "code",
   "execution_count": null,
   "metadata": {
    "colab": {
     "base_uri": "https://localhost:8080/"
    },
    "id": "kKsMYppdtAnc",
    "outputId": "b51e3eea-ce60-4214-8c02-284a6e03a1c6"
   },
   "outputs": [
    {
     "name": "stdout",
     "output_type": "stream",
     "text": [
      "Specificity: 0.625\n",
      "Accuracy: 0.5429\n",
      "precision: [0.5 0.6]\n",
      "recall: [0.625      0.47368421]\n",
      "f-measure: [0.55555556 0.52941176]\n"
     ]
    }
   ],
   "source": [
    "from sklearn.svm import SVC       \n",
    "####### \n",
    "svc = SVC(kernel = 'rbf')\n",
    "svm.fit(X_train, y_train)\n",
    "y_pred = svm.predict(X_test)\n",
    "### metricas de desempeño\n",
    "from sklearn.metrics import confusion_matrix\n",
    "from sklearn.metrics import accuracy_score\n",
    "tn, fp, fn, tp = confusion_matrix(y_test, y_pred).ravel()\n",
    "specificity = tn / (tn + fp)  #(VN/VN+FP)\n",
    "print('Specificity:', specificity)\n",
    "precision, recall, fscore,_ = score(y_test, y_pred)\n",
    "print('Accuracy: %.4f' % accuracy_score(y_test, y_pred))\n",
    "print('precision: {}'.format(precision))\n",
    "print('recall: {}'.format(recall))\n",
    "print('f-measure: {}'.format(fscore))\n"
   ]
  },
  {
   "cell_type": "code",
   "execution_count": null,
   "metadata": {
    "colab": {
     "base_uri": "https://localhost:8080/"
    },
    "id": "ucauhC6OojKO",
    "outputId": "b0ba6b64-6a3f-4a9c-a9cf-e4c748f47128"
   },
   "outputs": [
    {
     "name": "stdout",
     "output_type": "stream",
     "text": [
      "              precision    recall  f1-score   support\n",
      "\n",
      "           1       0.50      0.62      0.56        16\n",
      "           2       0.60      0.47      0.53        19\n",
      "\n",
      "    accuracy                           0.54        35\n",
      "   macro avg       0.55      0.55      0.54        35\n",
      "weighted avg       0.55      0.54      0.54        35\n",
      "\n"
     ]
    }
   ],
   "source": [
    "from sklearn.metrics import classification_report\n",
    "print(classification_report(y_test, y_pred))"
   ]
  },
  {
   "cell_type": "code",
   "execution_count": null,
   "metadata": {
    "id": "V3X6a6pVx8Zo"
   },
   "outputs": [],
   "source": [
    "#Con componentes principales\n",
    "X2 = df[['Glucose', 'MCP.1',]].values\n"
   ]
  },
  {
   "cell_type": "code",
   "execution_count": null,
   "metadata": {
    "id": "SItW6lY4yRBX"
   },
   "outputs": [],
   "source": [
    "X_train, X_test, y_train, y_test = train_test_split(X2, y, \n",
    "                test_size=0.3, random_state=1, stratify=y)"
   ]
  },
  {
   "cell_type": "code",
   "execution_count": null,
   "metadata": {
    "colab": {
     "base_uri": "https://localhost:8080/"
    },
    "id": "NVziuGPjyZoj",
    "outputId": "a1f19bd6-eee1-4408-c80a-dafd7a44795c"
   },
   "outputs": [
    {
     "name": "stdout",
     "output_type": "stream",
     "text": [
      "Specificity: 0.0625\n",
      "Accuracy: 0.5714\n",
      "precision: [1.         0.55882353]\n",
      "recall: [0.0625 1.    ]\n",
      "f-measure: [0.11764706 0.71698113]\n"
     ]
    }
   ],
   "source": [
    "from sklearn.svm import SVC       \n",
    "####### \n",
    "svc = SVC(kernel = 'rbf', gamma=0.10, C=10.0)\n",
    "svm.fit(X_train, y_train)\n",
    "y_pred = svm.predict(X_test)\n",
    "### metricas de desempeño\n",
    "from sklearn.metrics import confusion_matrix\n",
    "from sklearn.metrics import accuracy_score\n",
    "tn, fp, fn, tp = confusion_matrix(y_test, y_pred).ravel()\n",
    "specificity = tn / (tn + fp)  #(VN/VN+FP)\n",
    "print('Specificity:', specificity)\n",
    "precision, recall, fscore,_ = score(y_test, y_pred)\n",
    "print('Accuracy: %.4f' % accuracy_score(y_test, y_pred))\n",
    "print('precision: {}'.format(precision))\n",
    "print('recall: {}'.format(recall))\n",
    "print('f-measure: {}'.format(fscore))"
   ]
  },
  {
   "cell_type": "markdown",
   "metadata": {
    "id": "Rqp1RhUlMEIi"
   },
   "source": [
    "#8. Realizar un estudio comparativo del desempeño de **las técnicas de clustering** con las dos primeras componentes principales. Utilizar las siguientes técnicas de clustering: K-Means, Single-Linkage, Ward, DBSCAN. Obtener los indicadores de desempeño más relevantes. Graficar y Concluir"
   ]
  },
  {
   "cell_type": "markdown",
   "metadata": {
    "id": "SDK27LUlxjgD"
   },
   "source": [
    "k-means"
   ]
  },
  {
   "cell_type": "code",
   "execution_count": null,
   "metadata": {
    "colab": {
     "base_uri": "https://localhost:8080/"
    },
    "id": "CxYipxgB8Fi6",
    "outputId": "ff5cd5f4-41b3-4784-be35-1059f4df1647"
   },
   "outputs": [
    {
     "name": "stdout",
     "output_type": "stream",
     "text": [
      "Tiempo de Ajuste: 0.03159642219543457\n"
     ]
    }
   ],
   "source": [
    "algoritmo = cluster.KMeans(n_clusters=3)\n",
    "t0 = time.time()\n",
    "algoritmo.fit(X)\n",
    "t1 = time.time()\n",
    "tiempo_ajuste = t1 - t0\n",
    "print(\"Tiempo de Ajuste:\", tiempo_ajuste)"
   ]
  },
  {
   "cell_type": "code",
   "execution_count": null,
   "metadata": {
    "colab": {
     "base_uri": "https://localhost:8080/",
     "height": 285
    },
    "id": "RWpJQW3q8IRH",
    "outputId": "3739780e-f031-4ebd-c7b4-7b4e0cfff1e2"
   },
   "outputs": [
    {
     "data": {
      "text/plain": [
       "<matplotlib.collections.PathCollection at 0x7f0318655290>"
      ]
     },
     "execution_count": 80,
     "metadata": {
      "tags": []
     },
     "output_type": "execute_result"
    },
    {
     "data": {
      "image/png": "[encoded data removed]",
      "text/plain": [
       "<Figure size 432x288 with 1 Axes>"
      ]
     },
     "metadata": {
      "needs_background": "light",
      "tags": []
     },
     "output_type": "display_data"
    }
   ],
   "source": [
    "colors = np.array([x for x in 'bgrcmykbgrcmykbgrcmykbgrcmyk'])\n",
    "colors = np.hstack([colors] * 20)\n",
    "y_pred = algoritmo.labels_.astype(np.int)\n",
    "plt.scatter(X[:, 0], X[:, 1], color=colors[y_pred].tolist(), s=10)\n",
    "centros = algoritmo.cluster_centers_\n",
    "plt.scatter(centros[:, 0], centros[:, 1], s=100, c=['k','r','c'])"
   ]
  },
  {
   "cell_type": "code",
   "execution_count": null,
   "metadata": {
    "colab": {
     "base_uri": "https://localhost:8080/"
    },
    "id": "a2bNKaWmSkwZ",
    "outputId": "eeea5cd2-a649-4fa4-9dc7-0795d9800079"
   },
   "outputs": [
    {
     "name": "stdout",
     "output_type": "stream",
     "text": [
      "Estimated number of clusters: 3\n",
      "Homogeneity: 0.002201\n",
      "Completeness: 0.001775\n",
      "V-measure: 0.001965\n",
      "Adjusted Rand Index: -0.010903\n",
      "Adjusted Mutual Information: -0.010126\n",
      "Silhouette Coefficient: 0.588406\n"
     ]
    }
   ],
   "source": [
    "labels = y_pred\n",
    "labels_true = y\n",
    "# Number of clusters in labels, ignoring noise if present.\n",
    "n_clusters_ = len(set(labels)) - (1 if -1 in labels else 0)\n",
    "\n",
    "print('Estimated number of clusters: %d' % n_clusters_)\n",
    "print(\"Homogeneity: %0.6f\" % metrics.homogeneity_score(labels_true, labels))\n",
    "print(\"Completeness: %0.6f\" % metrics.completeness_score(labels_true, labels))\n",
    "print(\"V-measure: %0.6f\" % metrics.v_measure_score(labels_true, labels))\n",
    "print(\"Adjusted Rand Index: %0.6f\"\n",
    "      % metrics.adjusted_rand_score(labels_true, labels))\n",
    "print(\"Adjusted Mutual Information: %0.6f\"\n",
    "      % metrics.adjusted_mutual_info_score(labels_true, labels))\n",
    "print(\"Silhouette Coefficient: %0.6f\"\n",
    "      % metrics.silhouette_score(X, labels))"
   ]
  },
  {
   "cell_type": "markdown",
   "metadata": {
    "id": "CGF4XCHwxlij"
   },
   "source": [
    "Single-Linkage"
   ]
  },
  {
   "cell_type": "code",
   "execution_count": null,
   "metadata": {
    "colab": {
     "base_uri": "https://localhost:8080/"
    },
    "id": "2w3ajiWRA6_r",
    "outputId": "8e6b2a2f-5180-4289-d4ff-f0b37b40aaec"
   },
   "outputs": [
    {
     "name": "stdout",
     "output_type": "stream",
     "text": [
      "Tiempo de Ajuste: 0.007742643356323242\n"
     ]
    }
   ],
   "source": [
    "connectivity = kneighbors_graph(X, n_neighbors=10, include_self=False)\n",
    "algoritmo = cluster.AgglomerativeClustering(n_clusters=3, linkage='single',\n",
    "                                           connectivity=connectivity)\n",
    "t0 = time.time()\n",
    "algoritmo.fit(X)\n",
    "t1 = time.time()\n",
    "tiempo_ajuste = t1 - t0\n",
    "print(\"Tiempo de Ajuste:\", tiempo_ajuste)"
   ]
  },
  {
   "cell_type": "code",
   "execution_count": null,
   "metadata": {
    "colab": {
     "base_uri": "https://localhost:8080/",
     "height": 285
    },
    "id": "tRTzzbx5A__y",
    "outputId": "0c210c03-ed41-4efd-9334-d57ec0eab561"
   },
   "outputs": [
    {
     "data": {
      "text/plain": [
       "<matplotlib.collections.PathCollection at 0x7f0318ed2f90>"
      ]
     },
     "execution_count": 83,
     "metadata": {
      "tags": []
     },
     "output_type": "execute_result"
    },
    {
     "data": {
      "image/png": "[encoded data removed]",
      "text/plain": [
       "<Figure size 432x288 with 1 Axes>"
      ]
     },
     "metadata": {
      "needs_background": "light",
      "tags": []
     },
     "output_type": "display_data"
    }
   ],
   "source": [
    "y_pred = algoritmo.labels_.astype(np.int)\n",
    "plt.scatter(X[:, 0], X[:, 1], color=colors[y_pred].tolist(), s=10)"
   ]
  },
  {
   "cell_type": "code",
   "execution_count": null,
   "metadata": {
    "colab": {
     "base_uri": "https://localhost:8080/"
    },
    "id": "ggK9sn5nSeBK",
    "outputId": "a3ceb9b7-2680-4d97-db5b-9232275f9f3e"
   },
   "outputs": [
    {
     "name": "stdout",
     "output_type": "stream",
     "text": [
      "Estimated number of clusters: 3\n",
      "Homogeneity: 0.050039\n",
      "Completeness: 0.145532\n",
      "V-measure: 0.074472\n",
      "Adjusted Rand Index: -0.003183\n",
      "Adjusted Mutual Information: 0.051450\n",
      "Silhouette Coefficient: 0.549791\n"
     ]
    }
   ],
   "source": [
    "labels = algoritmo.labels_\n",
    "labels_true = y\n",
    "# Number of clusters in labels, ignoring noise if present.\n",
    "n_clusters_ = len(set(labels)) - (1 if -1 in labels else 0)\n",
    "\n",
    "print('Estimated number of clusters: %d' % n_clusters_)\n",
    "print(\"Homogeneity: %0.6f\" % metrics.homogeneity_score(labels_true, labels))\n",
    "print(\"Completeness: %0.6f\" % metrics.completeness_score(labels_true, labels))\n",
    "print(\"V-measure: %0.6f\" % metrics.v_measure_score(labels_true, labels))\n",
    "print(\"Adjusted Rand Index: %0.6f\"\n",
    "      % metrics.adjusted_rand_score(labels_true, labels))\n",
    "print(\"Adjusted Mutual Information: %0.6f\"\n",
    "      % metrics.adjusted_mutual_info_score(labels_true, labels))\n",
    "print(\"Silhouette Coefficient: %0.6f\"\n",
    "      % metrics.silhouette_score(X, labels))"
   ]
  },
  {
   "cell_type": "markdown",
   "metadata": {
    "id": "V51Oxrn2xpLd"
   },
   "source": [
    "Ward"
   ]
  },
  {
   "cell_type": "code",
   "execution_count": null,
   "metadata": {
    "colab": {
     "base_uri": "https://localhost:8080/"
    },
    "id": "iPv-16RX76co",
    "outputId": "875b4408-23a9-434b-a51e-dc15c3424c49"
   },
   "outputs": [
    {
     "name": "stdout",
     "output_type": "stream",
     "text": [
      "Tiempo de Ajuste: 0.01282644271850586\n"
     ]
    }
   ],
   "source": [
    "connectivity = kneighbors_graph(X, n_neighbors=10, include_self=False)\n",
    "algoritmo = cluster.AgglomerativeClustering(n_clusters=3, linkage='ward',\n",
    "                                           connectivity=connectivity)\n",
    "t0 = time.time()\n",
    "algoritmo.fit(X)\n",
    "t1 = time.time()\n",
    "tiempo_ajuste = t1 - t0\n",
    "print(\"Tiempo de Ajuste:\", tiempo_ajuste)"
   ]
  },
  {
   "cell_type": "code",
   "execution_count": null,
   "metadata": {
    "colab": {
     "base_uri": "https://localhost:8080/",
     "height": 285
    },
    "id": "1-W7tZrb8vh_",
    "outputId": "1314a299-33de-4f26-8a76-c0b2ee9e705c"
   },
   "outputs": [
    {
     "data": {
      "text/plain": [
       "<matplotlib.collections.PathCollection at 0x7f0310603390>"
      ]
     },
     "execution_count": 86,
     "metadata": {
      "tags": []
     },
     "output_type": "execute_result"
    },
    {
     "data": {
      "image/png": "[encoded data removed]",
      "text/plain": [
       "<Figure size 432x288 with 1 Axes>"
      ]
     },
     "metadata": {
      "needs_background": "light",
      "tags": []
     },
     "output_type": "display_data"
    }
   ],
   "source": [
    "y_pred = algoritmo.labels_.astype(np.int)\n",
    "plt.scatter(X[:, 0], X[:, 1], color=colors[y_pred].tolist(), s=10)"
   ]
  },
  {
   "cell_type": "code",
   "execution_count": null,
   "metadata": {
    "colab": {
     "base_uri": "https://localhost:8080/"
    },
    "id": "2TDt6Y2qR31F",
    "outputId": "60e0eab7-08dc-4075-feca-01182e1d3c67"
   },
   "outputs": [
    {
     "name": "stdout",
     "output_type": "stream",
     "text": [
      "Estimated number of clusters: 3\n",
      "Homogeneity: 0.030895\n",
      "Completeness: 0.031100\n",
      "V-measure: 0.030997\n",
      "Adjusted Rand Index: -0.012371\n",
      "Adjusted Mutual Information: 0.017167\n",
      "Silhouette Coefficient: 0.552546\n"
     ]
    }
   ],
   "source": [
    "labels = y_pred\n",
    "labels_true = y\n",
    "# Number of clusters in labels, ignoring noise if present.\n",
    "n_clusters_ = len(set(labels)) - (1 if -1 in labels else 0)\n",
    "\n",
    "print('Estimated number of clusters: %d' % n_clusters_)\n",
    "print(\"Homogeneity: %0.6f\" % metrics.homogeneity_score(labels_true, labels))\n",
    "print(\"Completeness: %0.6f\" % metrics.completeness_score(labels_true, labels))\n",
    "print(\"V-measure: %0.6f\" % metrics.v_measure_score(labels_true, labels))\n",
    "print(\"Adjusted Rand Index: %0.6f\"\n",
    "      % metrics.adjusted_rand_score(labels_true, labels))\n",
    "print(\"Adjusted Mutual Information: %0.6f\"\n",
    "      % metrics.adjusted_mutual_info_score(labels_true, labels))\n",
    "print(\"Silhouette Coefficient: %0.6f\"\n",
    "      % metrics.silhouette_score(X, labels))"
   ]
  },
  {
   "cell_type": "markdown",
   "metadata": {
    "id": "sFwoF0vTxqmp"
   },
   "source": [
    "DBSCAN"
   ]
  },
  {
   "cell_type": "code",
   "execution_count": null,
   "metadata": {
    "colab": {
     "base_uri": "https://localhost:8080/"
    },
    "id": "ezcromzl7syb",
    "outputId": "a25f1227-c95e-473e-e6ff-71b5538c526d"
   },
   "outputs": [
    {
     "name": "stdout",
     "output_type": "stream",
     "text": [
      "Tiempo de Ajuste: 0.0038194656372070312\n"
     ]
    }
   ],
   "source": [
    "algoritmo = cluster.DBSCAN(eps=.1)\n",
    "\n",
    "t0 = time.time()\n",
    "algoritmo.fit(X)\n",
    "t1 = time.time()\n",
    "tiempo_ajuste = t1 - t0\n",
    "print(\"Tiempo de Ajuste:\", tiempo_ajuste)"
   ]
  },
  {
   "cell_type": "code",
   "execution_count": null,
   "metadata": {
    "colab": {
     "base_uri": "https://localhost:8080/",
     "height": 285
    },
    "id": "gPEWaiL18fEK",
    "outputId": "883c23f8-91aa-4f88-bbb2-3e92dcf79677"
   },
   "outputs": [
    {
     "data": {
      "text/plain": [
       "<matplotlib.collections.PathCollection at 0x7f0318c4a0d0>"
      ]
     },
     "execution_count": 94,
     "metadata": {
      "tags": []
     },
     "output_type": "execute_result"
    },
    {
     "data": {
      "image/png": "[encoded data removed]",
      "text/plain": [
       "<Figure size 432x288 with 1 Axes>"
      ]
     },
     "metadata": {
      "needs_background": "light",
      "tags": []
     },
     "output_type": "display_data"
    }
   ],
   "source": [
    "y_pred = algoritmo.labels_.astype(np.int)\n",
    "plt.scatter(X[:, 0], X[:, 1], color=colors[y_pred].tolist(), s=10)"
   ]
  },
  {
   "cell_type": "code",
   "execution_count": null,
   "metadata": {
    "colab": {
     "base_uri": "https://localhost:8080/"
    },
    "id": "2emcV-sS6-m3",
    "outputId": "363cdf8a-6b19-4f9b-c841-63ab0902b8ba"
   },
   "outputs": [
    {
     "name": "stdout",
     "output_type": "stream",
     "text": [
      "Estimated number of clusters: 0\n",
      "Homogeneity: -0.000000\n",
      "Completeness: 1.000000\n",
      "V-measure: -0.000000\n",
      "Adjusted Rand Index: 0.000000\n",
      "Adjusted Mutual Information: -0.000000\n"
     ]
    }
   ],
   "source": [
    "labels = algoritmo.labels_\n",
    "labels_true = y\n",
    "# Number of clusters in labels, ignoring noise if present.\n",
    "n_clusters_ = len(set(labels)) - (1 if -1 in labels else 0)\n",
    "\n",
    "print('Estimated number of clusters: %d' % n_clusters_)\n",
    "print(\"Homogeneity: %0.6f\" % metrics.homogeneity_score(labels_true, labels))\n",
    "print(\"Completeness: %0.6f\" % metrics.completeness_score(labels_true, labels))\n",
    "print(\"V-measure: %0.6f\" % metrics.v_measure_score(labels_true, labels))\n",
    "print(\"Adjusted Rand Index: %0.6f\"\n",
    "      % metrics.adjusted_rand_score(labels_true, labels))\n",
    "print(\"Adjusted Mutual Information: %0.6f\"\n",
    "      % metrics.adjusted_mutual_info_score(labels_true, labels))\n",
    "##print(\"Silhouette Coefficient: %0.6f\"\n",
    "#      % metrics.silhouette_score(X, labels))"
   ]
  },
  {
   "cell_type": "code",
   "execution_count": null,
   "metadata": {
    "id": "t_90pJuASZFQ"
   },
   "outputs": [],
   "source": []
  },
  {
   "cell_type": "markdown",
   "metadata": {
    "id": "ije65m3EmNdY"
   },
   "source": [
    "**9. Features mas importantes usando Random Forest**"
   ]
  },
  {
   "cell_type": "code",
   "execution_count": null,
   "metadata": {
    "id": "SMqpfUN70NJD"
   },
   "outputs": [],
   "source": [
    "from sklearn import datasets\n",
    "from sklearn.metrics import precision_recall_fscore_support as score\n",
    "\n",
    "X = df.iloc[:, 0:9].values\n",
    "y = df.iloc[:,9].values\n",
    "\n",
    "from sklearn.model_selection import train_test_split\n",
    "\n",
    "X_train, X_test, y_train, y_test = train_test_split(X, y, \n",
    "                test_size=0.3, random_state=1, stratify=y)"
   ]
  },
  {
   "cell_type": "code",
   "execution_count": null,
   "metadata": {
    "id": "mtUut-9D0W1d"
   },
   "outputs": [],
   "source": [
    "from sklearn.preprocessing import StandardScaler\n",
    "\n",
    "sc = StandardScaler()\n",
    "sc.fit(X_train)\n",
    "X_train_std = sc.transform(X_train)\n",
    "X_test_std = sc.transform(X_test)"
   ]
  },
  {
   "cell_type": "code",
   "execution_count": null,
   "metadata": {
    "id": "8ZbTHzZn0rHC"
   },
   "outputs": [],
   "source": [
    "from sklearn.metrics import accuracy_score"
   ]
  },
  {
   "cell_type": "code",
   "execution_count": null,
   "metadata": {
    "colab": {
     "base_uri": "https://localhost:8080/"
    },
    "id": "rbHOcHXdmUxM",
    "outputId": "f2de78d4-14a7-4182-9efa-923dba305fb1"
   },
   "outputs": [
    {
     "name": "stdout",
     "output_type": "stream",
     "text": [
      "Specificity: 0.5\n",
      "Accuracy: 0.6571\n",
      "precision: [0.66666667 0.65217391]\n",
      "recall: [0.5        0.78947368]\n",
      "f-measure: [0.57142857 0.71428571]\n"
     ]
    }
   ],
   "source": [
    "from sklearn.ensemble import RandomForestClassifier\n",
    "bosque = RandomForestClassifier(criterion = 'gini', \n",
    "                                 n_estimators=25, n_jobs=2)\n",
    "bosque.fit(X_train_std, y_train)\n",
    "y_pred = bosque.predict(X_test_std)\n",
    "from sklearn.metrics import confusion_matrix\n",
    "tn, fp, fn, tp = confusion_matrix(y_test, y_pred).ravel()\n",
    "specificity = tn / (tn + fp)  #(VN/VN+FP)\n",
    "print('Specificity:', specificity)\n",
    "precision, recall, fscore, _ = score(y_test, y_pred)\n",
    "print('Accuracy: %.4f' % accuracy_score(y_test, y_pred))\n",
    "print('precision: {}'.format(precision))\n",
    "print('recall: {}'.format(recall))\n",
    "print('f-measure: {}'.format(fscore))"
   ]
  }
 ],
 "metadata": {
  "colab": {
   "collapsed_sections": [],
   "name": "Tarea 3 - Minería de Datos.ipynb",
   "provenance": []
  },
  "kernelspec": {
   "display_name": "Python 3",
   "language": "python",
   "name": "python3"
  },
  "language_info": {
   "codemirror_mode": {
    "name": "ipython",
    "version": 3
   },
   "file_extension": ".py",
   "mimetype": "text/x-python",
   "name": "python",
   "nbconvert_exporter": "python",
   "pygments_lexer": "ipython3",
   "version": "3.9.5"
  }
 },
 "nbformat": 4,
 "nbformat_minor": 1
}
